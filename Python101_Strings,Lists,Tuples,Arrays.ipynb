{
  "nbformat": 4,
  "nbformat_minor": 0,
  "metadata": {
    "colab": {
      "provenance": [],
      "authorship_tag": "ABX9TyNMe+sAJxKjll1yYXpof/Ha",
      "include_colab_link": true
    },
    "kernelspec": {
      "name": "python3",
      "display_name": "Python 3"
    },
    "language_info": {
      "name": "python"
    }
  },
  "cells": [
    {
      "cell_type": "markdown",
      "metadata": {
        "id": "view-in-github",
        "colab_type": "text"
      },
      "source": [
        "<a href=\"https://colab.research.google.com/github/noahcreany/EC_Python101/blob/main/Python101_Strings%2CLists%2CTuples%2CArrays.ipynb\" target=\"_parent\"><img src=\"https://colab.research.google.com/assets/colab-badge.svg\" alt=\"Open In Colab\"/></a>"
      ]
    },
    {
      "cell_type": "markdown",
      "source": [
        "\n",
        "# Introduction to Python\n",
        "## Ecology Center Workshop - April 4, 2023\n",
        "\n",
        "\n",
        "\n",
        "---\n",
        "\n"
      ],
      "metadata": {
        "id": "zt9XQ3TGtdeQ"
      }
    },
    {
      "cell_type": "markdown",
      "source": [
        "###How many people have used Python Before?\n",
        "> Python is one of the most commonly used programming language "
      ],
      "metadata": {
        "id": "L4VYTCepuzDl"
      }
    },
    {
      "cell_type": "markdown",
      "source": [
        "<img src='https://github.com/noahcreany/EC_Python101/blob/main/Figures/SearchInterest.png?raw=true'/>\n",
        "\n",
        "\n",
        "##Tiobe Programming Language Index - March 2023\n",
        "\n",
        "<table id=\"top20\" class=\"table table-striped table-top20\">\n",
        "<thead><tr>\n",
        "<th style=\"width: 15%\">Mar 2023</th>\n",
        "<th style=\"width: 15%\">Mar 2022</th>\n",
        "<th title=\"Difference compared to last year\" style=\"width: 15%\">Change</th>\n",
        "<th style=\"width: 25%\" colspan=\"2\">Programming Language</th>\n",
        "<th style=\"width: 15%\">Ratings</th>\n",
        "<th title=\"Difference compared to last year\" style=\"width: 15%\">Change</th>\n",
        "</tr></thead>\n",
        "<tbody>\n",
        "<tr><td>1</td><td>1</td><td></td><td class=\"td-top20\"><img src=\"https://www.tiobe.com/wp-content/themes/tiobe/tiobe-index/images/Python.png\" alt=\"Python page\" style=\"vertical-align:middle\"></td><td>Python</td><td>14.83%</td><td>+0.57%</td></tr><tr><td>2</td><td>2</td><td></td><td class=\"td-top20\"><img src=\"https://www.tiobe.com/wp-content/themes/tiobe/tiobe-index/images/C.png\" alt=\"C page\" style=\"vertical-align:middle\"></td><td>C</td><td>14.73%</td><td>+1.67%</td></tr><tr><td>3</td><td>3</td><td></td><td class=\"td-top20\"><img src=\"https://www.tiobe.com/wp-content/themes/tiobe/tiobe-index/images/Java.png\" alt=\"Java page\" style=\"vertical-align:middle\"></td><td>Java</td><td>13.56%</td><td>+2.37%</td></tr><tr><td>4</td><td>4</td><td></td><td class=\"td-top20\"><img src=\"https://www.tiobe.com/wp-content/themes/tiobe/tiobe-index/images/C__.png\" alt=\"C++ page\" style=\"vertical-align:middle\"></td><td>C++</td><td>13.29%</td><td>+4.64%</td></tr><tr><td>5</td><td>5</td><td></td><td class=\"td-top20\"><img src=\"https://www.tiobe.com/wp-content/themes/tiobe/tiobe-index/images/C_.png\" alt=\"C# page\" style=\"vertical-align:middle\"></td><td>C#</td><td>7.17%</td><td>+1.25%</td></tr><tr><td>6</td><td>6</td><td></td><td class=\"td-top20\"><img src=\"https://www.tiobe.com/wp-content/themes/tiobe/tiobe-index/images/Visual_Basic.png\" alt=\"Visual Basic page\" style=\"vertical-align:middle\"></td><td>Visual Basic</td><td>4.75%</td><td>-1.01%</td></tr><tr><td>7</td><td>7</td><td></td><td class=\"td-top20\"><img src=\"https://www.tiobe.com/wp-content/themes/tiobe/tiobe-index/images/JavaScript.png\" alt=\"JavaScript page\" style=\"vertical-align:middle\"></td><td>JavaScript</td><td>2.17%</td><td>+0.09%</td></tr><tr><td>8</td><td>10</td><td><img src=\"https://www.tiobe.com/wp-content/themes/tiobe/tpci/images/up.png\" alt=\"change\"></td><td class=\"td-top20\"><img src=\"https://www.tiobe.com/wp-content/themes/tiobe/tiobe-index/images/SQL.png\" alt=\"SQL page\" style=\"vertical-align:middle\"></td><td>SQL</td><td>1.95%</td><td>+0.11%</td></tr><tr><td>9</td><td>8</td><td><img src=\"https://www.tiobe.com/wp-content/themes/tiobe/tpci/images/down.png\" alt=\"change\"></td><td class=\"td-top20\"><img src=\"https://www.tiobe.com/wp-content/themes/tiobe/tiobe-index/images/PHP.png\" alt=\"PHP page\" style=\"vertical-align:middle\"></td><td>PHP</td><td>1.61%</td><td>-0.30%</td></tr><tr><td>10</td><td>13</td><td><img src=\"https://www.tiobe.com/wp-content/themes/tiobe/tpci/images/up.png\" alt=\"change\"></td><td class=\"td-top20\"><img src=\"https://www.tiobe.com/wp-content/themes/tiobe/tiobe-index/images/Go.png\" alt=\"Go page\" style=\"vertical-align:middle\"></td><td>Go</td><td>1.24%</td><td>+0.26%</td></tr><tr><td>11</td><td>9</td><td><img src=\"https://www.tiobe.com/wp-content/themes/tiobe/tpci/images/down.png\" alt=\"change\"></td><td class=\"td-top20\"><img src=\"https://www.tiobe.com/wp-content/themes/tiobe/tiobe-index/images/Assembly_language.png\" alt=\"Assembly language page\" style=\"vertical-align:middle\"></td><td>Assembly language</td><td>1.11%</td><td>-0.79%</td></tr><tr><td>12</td><td>15</td><td><img src=\"https://www.tiobe.com/wp-content/themes/tiobe/tpci/images/up.png\" alt=\"change\"></td><td class=\"td-top20\"><img src=\"https://www.tiobe.com/wp-content/themes/tiobe/tiobe-index/images/MATLAB.png\" alt=\"MATLAB page\" style=\"vertical-align:middle\"></td><td>MATLAB</td><td>1.08%</td><td>+0.28%</td></tr><tr><td>13</td><td>12</td><td><img src=\"https://www.tiobe.com/wp-content/themes/tiobe/tpci/images/down.png\" alt=\"change\"></td><td class=\"td-top20\"><img src=\"https://www.tiobe.com/wp-content/themes/tiobe/tiobe-index/images/Delphi_Object_Pascal.png\" alt=\"Delphi/Object Pascal page\" style=\"vertical-align:middle\"></td><td>Delphi/Object Pascal</td><td>1.06%</td><td>-0.06%</td></tr><tr><td>14</td><td>23</td><td><img src=\"https://www.tiobe.com/wp-content/themes/tiobe/tpci/images/upup.png\" alt=\"change\"></td><td class=\"td-top20\"><img src=\"https://www.tiobe.com/wp-content/themes/tiobe/tiobe-index/images/Scratch.png\" alt=\"Scratch page\" style=\"vertical-align:middle\"></td><td>Scratch</td><td>1.00%</td><td>+0.47%</td></tr><tr><td>15</td><td>17</td><td><img src=\"https://www.tiobe.com/wp-content/themes/tiobe/tpci/images/up.png\" alt=\"change\"></td><td class=\"td-top20\"><img src=\"https://www.tiobe.com/wp-content/themes/tiobe/tiobe-index/images/Classic_Visual_Basic.png\" alt=\"Classic Visual Basic page\" style=\"vertical-align:middle\"></td><td>Classic Visual Basic</td><td>0.98%</td><td>+0.38%</td></tr><tr><td>16</td><td>11</td><td><img src=\"https://www.tiobe.com/wp-content/themes/tiobe/tpci/images/downdown.png\" alt=\"change\"></td><td class=\"td-top20\"><img src=\"https://www.tiobe.com/wp-content/themes/tiobe/tiobe-index/images/R.png\" alt=\"R page\" style=\"vertical-align:middle\"></td><td>R</td><td>0.93%</td><td>-0.44%</td></tr><tr><td>17</td><td>30</td><td><img src=\"https://www.tiobe.com/wp-content/themes/tiobe/tpci/images/upup.png\" alt=\"change\"></td><td class=\"td-top20\"><img src=\"https://www.tiobe.com/wp-content/themes/tiobe/tiobe-index/images/Fortran.png\" alt=\"Fortran page\" style=\"vertical-align:middle\"></td><td>Fortran</td><td>0.79%</td><td>+0.40%</td></tr><tr><td>18</td><td>16</td><td><img src=\"https://www.tiobe.com/wp-content/themes/tiobe/tpci/images/down.png\" alt=\"change\"></td><td class=\"td-top20\"><img src=\"https://www.tiobe.com/wp-content/themes/tiobe/tiobe-index/images/Ruby.png\" alt=\"Ruby page\" style=\"vertical-align:middle\"></td><td>Ruby</td><td>0.76%</td><td>+0.10%</td></tr><tr><td>19</td><td>26</td><td><img src=\"https://www.tiobe.com/wp-content/themes/tiobe/tpci/images/upup.png\" alt=\"change\"></td><td class=\"td-top20\"><img src=\"https://www.tiobe.com/wp-content/themes/tiobe/tiobe-index/images/Rust.png\" alt=\"Rust page\" style=\"vertical-align:middle\"></td><td>Rust</td><td>0.73%</td><td>+0.22%</td></tr><tr><td>20</td><td>14</td><td><img src=\"https://www.tiobe.com/wp-content/themes/tiobe/tpci/images/downdown.png\" alt=\"change\"></td><td class=\"td-top20\"><img src=\"https://www.tiobe.com/wp-content/themes/tiobe/tiobe-index/images/Swift.png\" alt=\"Swift page\" style=\"vertical-align:middle\"></td><td>Swift</td><td>0.71%</td><td>-0.20%</td></tr>\n",
        "</tbody>\n",
        "</table>"
      ],
      "metadata": {
        "id": "_1B-_yERvCQe"
      }
    },
    {
      "cell_type": "code",
      "source": [],
      "metadata": {
        "id": "Nt0QipQqvBNP"
      },
      "execution_count": null,
      "outputs": []
    },
    {
      "cell_type": "code",
      "execution_count": null,
      "metadata": {
        "id": "PS4L6oDZsbH0"
      },
      "outputs": [],
      "source": []
    }
  ]
}