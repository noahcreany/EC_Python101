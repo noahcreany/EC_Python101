{
  "nbformat": 4,
  "nbformat_minor": 0,
  "metadata": {
    "colab": {
      "provenance": [],
      "authorship_tag": "ABX9TyNJlqvKkFh0p2pkLMlWRlUr",
      "include_colab_link": true
    },
    "kernelspec": {
      "name": "python3",
      "display_name": "Python 3"
    },
    "language_info": {
      "name": "python"
    }
  },
  "cells": [
    {
      "cell_type": "markdown",
      "metadata": {
        "id": "view-in-github",
        "colab_type": "text"
      },
      "source": [
        "<a href=\"https://colab.research.google.com/github/noahcreany/EC_Python101/blob/main/Python101_Strings%2C_Lists%2C_Tuples%2C_Arrays.ipynb\" target=\"_parent\"><img src=\"https://colab.research.google.com/assets/colab-badge.svg\" alt=\"Open In Colab\"/></a>"
      ]
    },
    {
      "cell_type": "markdown",
      "source": [
        "\n",
        "# Introduction to Python\n",
        "## Ecology Center Workshop - April 4, 2023\n",
        "\n",
        "\n",
        "\n",
        "---\n",
        "\n"
      ],
      "metadata": {
        "id": "zt9XQ3TGtdeQ"
      }
    },
    {
      "cell_type": "markdown",
      "source": [
        "###How many people have used Python Before?\n",
        "> Python is one of the most commonly used programming languages in the world (see below). Python, like R, is an object oriented language that is used in all sorts of applications - from web development, networks, data analytics, and software.\\\n",
        "Part of Python's appeal is the simple syntax that can allow you to read and understand what the code is doing - even if it is calling a lot of hidden processes that are happening during compiling.\n",
        "\n",
        "\n"
      ],
      "metadata": {
        "id": "L4VYTCepuzDl"
      }
    },
    {
      "cell_type": "markdown",
      "source": [
        "<img src='https://github.com/noahcreany/EC_Python101/blob/main/Figures/SearchInterest.png?raw=true'/>\n",
        "\n",
        "\n",
        "##Tiobe Programming Language Index - November 2023\n",
        "<!--\n",
        "<table id=\"top20\" class=\"table table-striped table-top20\">\n",
        "<thead><tr>\n",
        "<th style=\"width: 15%\">Mar 2023</th>\n",
        "<th style=\"width: 15%\">Mar 2022</th>\n",
        "<th title=\"Difference compared to last year\" style=\"width: 15%\">Change</th>\n",
        "<th style=\"width: 25%\" colspan=\"2\">Programming Language</th>\n",
        "<th style=\"width: 15%\">Ratings</th>\n",
        "<th title=\"Difference compared to last year\" style=\"width: 15%\">Change</th>\n",
        "</tr></thead>\n",
        "<tbody>\n",
        "<tr><td>1</td><td>1</td><td></td><td class=\"td-top20\"><img src=\"https://www.tiobe.com/wp-content/themes/tiobe/tiobe-index/images/Python.png\" alt=\"Python page\" style=\"vertical-align:middle\"></td><td>Python</td><td>14.83%</td><td>+0.57%</td></tr><tr><td>2</td><td>2</td><td></td><td class=\"td-top20\"><img src=\"https://www.tiobe.com/wp-content/themes/tiobe/tiobe-index/images/C.png\" alt=\"C page\" style=\"vertical-align:middle\"></td><td>C</td><td>14.73%</td><td>+1.67%</td></tr><tr><td>3</td><td>3</td><td></td><td class=\"td-top20\"><img src=\"https://www.tiobe.com/wp-content/themes/tiobe/tiobe-index/images/Java.png\" alt=\"Java page\" style=\"vertical-align:middle\"></td><td>Java</td><td>13.56%</td><td>+2.37%</td></tr><tr><td>4</td><td>4</td><td></td><td class=\"td-top20\"><img src=\"https://www.tiobe.com/wp-content/themes/tiobe/tiobe-index/images/C__.png\" alt=\"C++ page\" style=\"vertical-align:middle\"></td><td>C++</td><td>13.29%</td><td>+4.64%</td></tr><tr><td>5</td><td>5</td><td></td><td class=\"td-top20\"><img src=\"https://www.tiobe.com/wp-content/themes/tiobe/tiobe-index/images/C_.png\" alt=\"C# page\" style=\"vertical-align:middle\"></td><td>C#</td><td>7.17%</td><td>+1.25%</td></tr><tr><td>6</td><td>6</td><td></td><td class=\"td-top20\"><img src=\"https://www.tiobe.com/wp-content/themes/tiobe/tiobe-index/images/Visual_Basic.png\" alt=\"Visual Basic page\" style=\"vertical-align:middle\"></td><td>Visual Basic</td><td>4.75%</td><td>-1.01%</td></tr><tr><td>7</td><td>7</td><td></td><td class=\"td-top20\"><img src=\"https://www.tiobe.com/wp-content/themes/tiobe/tiobe-index/images/JavaScript.png\" alt=\"JavaScript page\" style=\"vertical-align:middle\"></td><td>JavaScript</td><td>2.17%</td><td>+0.09%</td></tr><tr><td>8</td><td>10</td><td><img src=\"https://www.tiobe.com/wp-content/themes/tiobe/tpci/images/up.png\" alt=\"change\"></td><td class=\"td-top20\"><img src=\"https://www.tiobe.com/wp-content/themes/tiobe/tiobe-index/images/SQL.png\" alt=\"SQL page\" style=\"vertical-align:middle\"></td><td>SQL</td><td>1.95%</td><td>+0.11%</td></tr><tr><td>9</td><td>8</td><td><img src=\"https://www.tiobe.com/wp-content/themes/tiobe/tpci/images/down.png\" alt=\"change\"></td><td class=\"td-top20\"><img src=\"https://www.tiobe.com/wp-content/themes/tiobe/tiobe-index/images/PHP.png\" alt=\"PHP page\" style=\"vertical-align:middle\"></td><td>PHP</td><td>1.61%</td><td>-0.30%</td></tr><tr><td>10</td><td>13</td><td><img src=\"https://www.tiobe.com/wp-content/themes/tiobe/tpci/images/up.png\" alt=\"change\"></td><td class=\"td-top20\"><img src=\"https://www.tiobe.com/wp-content/themes/tiobe/tiobe-index/images/Go.png\" alt=\"Go page\" style=\"vertical-align:middle\"></td><td>Go</td><td>1.24%</td><td>+0.26%</td></tr><tr><td>11</td><td>9</td><td><img src=\"https://www.tiobe.com/wp-content/themes/tiobe/tpci/images/down.png\" alt=\"change\"></td><td class=\"td-top20\"><img src=\"https://www.tiobe.com/wp-content/themes/tiobe/tiobe-index/images/Assembly_language.png\" alt=\"Assembly language page\" style=\"vertical-align:middle\"></td><td>Assembly language</td><td>1.11%</td><td>-0.79%</td></tr><tr><td>12</td><td>15</td><td><img src=\"https://www.tiobe.com/wp-content/themes/tiobe/tpci/images/up.png\" alt=\"change\"></td><td class=\"td-top20\"><img src=\"https://www.tiobe.com/wp-content/themes/tiobe/tiobe-index/images/MATLAB.png\" alt=\"MATLAB page\" style=\"vertical-align:middle\"></td><td>MATLAB</td><td>1.08%</td><td>+0.28%</td></tr><tr><td>13</td><td>12</td><td><img src=\"https://www.tiobe.com/wp-content/themes/tiobe/tpci/images/down.png\" alt=\"change\"></td><td class=\"td-top20\"><img src=\"https://www.tiobe.com/wp-content/themes/tiobe/tiobe-index/images/Delphi_Object_Pascal.png\" alt=\"Delphi/Object Pascal page\" style=\"vertical-align:middle\"></td><td>Delphi/Object Pascal</td><td>1.06%</td><td>-0.06%</td></tr><tr><td>14</td><td>23</td><td><img src=\"https://www.tiobe.com/wp-content/themes/tiobe/tpci/images/upup.png\" alt=\"change\"></td><td class=\"td-top20\"><img src=\"https://www.tiobe.com/wp-content/themes/tiobe/tiobe-index/images/Scratch.png\" alt=\"Scratch page\" style=\"vertical-align:middle\"></td><td>Scratch</td><td>1.00%</td><td>+0.47%</td></tr><tr><td>15</td><td>17</td><td><img src=\"https://www.tiobe.com/wp-content/themes/tiobe/tpci/images/up.png\" alt=\"change\"></td><td class=\"td-top20\"><img src=\"https://www.tiobe.com/wp-content/themes/tiobe/tiobe-index/images/Classic_Visual_Basic.png\" alt=\"Classic Visual Basic page\" style=\"vertical-align:middle\"></td><td>Classic Visual Basic</td><td>0.98%</td><td>+0.38%</td></tr><tr><td>16</td><td>11</td><td><img src=\"https://www.tiobe.com/wp-content/themes/tiobe/tpci/images/downdown.png\" alt=\"change\"></td><td class=\"td-top20\"><img src=\"https://www.tiobe.com/wp-content/themes/tiobe/tiobe-index/images/R.png\" alt=\"R page\" style=\"vertical-align:middle\"></td><td>R</td><td>0.93%</td><td>-0.44%</td></tr><tr><td>17</td><td>30</td><td><img src=\"https://www.tiobe.com/wp-content/themes/tiobe/tpci/images/upup.png\" alt=\"change\"></td><td class=\"td-top20\"><img src=\"https://www.tiobe.com/wp-content/themes/tiobe/tiobe-index/images/Fortran.png\" alt=\"Fortran page\" style=\"vertical-align:middle\"></td><td>Fortran</td><td>0.79%</td><td>+0.40%</td></tr><tr><td>18</td><td>16</td><td><img src=\"https://www.tiobe.com/wp-content/themes/tiobe/tpci/images/down.png\" alt=\"change\"></td><td class=\"td-top20\"><img src=\"https://www.tiobe.com/wp-content/themes/tiobe/tiobe-index/images/Ruby.png\" alt=\"Ruby page\" style=\"vertical-align:middle\"></td><td>Ruby</td><td>0.76%</td><td>+0.10%</td></tr><tr><td>19</td><td>26</td><td><img src=\"https://www.tiobe.com/wp-content/themes/tiobe/tpci/images/upup.png\" alt=\"change\"></td><td class=\"td-top20\"><img src=\"https://www.tiobe.com/wp-content/themes/tiobe/tiobe-index/images/Rust.png\" alt=\"Rust page\" style=\"vertical-align:middle\"></td><td>Rust</td><td>0.73%</td><td>+0.22%</td></tr><tr><td>20</td><td>14</td><td><img src=\"https://www.tiobe.com/wp-content/themes/tiobe/tpci/images/downdown.png\" alt=\"change\"></td><td class=\"td-top20\"><img src=\"https://www.tiobe.com/wp-content/themes/tiobe/tiobe-index/images/Swift.png\" alt=\"Swift page\" style=\"vertical-align:middle\"></td><td>Swift</td><td>0.71%</td><td>-0.20%</td></tr>\n",
        "</tbody>\n",
        "</table> -->\n",
        "\n",
        "<table id=\"top20\" class=\"table table-striped table-top20\">\n",
        "<thead><tr>\n",
        "<th style=\"width: 15%\">Nov 2023</th>\n",
        "<th style=\"width: 15%\">Nov 2022</th>\n",
        "<th title=\"Difference compared to last year\" style=\"width: 15%\">Change</th>\n",
        "<th style=\"width: 25%\" colspan=\"2\">Programming Language</th>\n",
        "<th style=\"width: 15%\">Ratings</th>\n",
        "<th title=\"Difference compared to last year\" style=\"width: 15%\">Change</th>\n",
        "</tr></thead>\n",
        "<tbody>\n",
        "<tr><td>1</td><td>1</td><td></td><td class=\"td-top20\"><img src=\"https://www.tiobe.com/wp-content/themes/tiobe/tiobe-index/images/Python.png\" alt=\"Python page\" style=\"vertical-align:middle\"></td><td>Python</td><td>14.16%</td><td>-3.02%</td></tr><tr><td>2</td><td>2</td><td></td><td class=\"td-top20\"><img src=\"https://www.tiobe.com/wp-content/themes/tiobe/tiobe-index/images/C.png\" alt=\"C page\" style=\"vertical-align:middle\"></td><td>C</td><td>11.77%</td><td>-3.31%</td></tr><tr><td>3</td><td>4</td><td><img src=\"https://www.tiobe.com/wp-content/themes/tiobe/tpci/images/up.png\" alt=\"change\"></td><td class=\"td-top20\"><img src=\"https://www.tiobe.com/wp-content/themes/tiobe/tiobe-index/images/C__.png\" alt=\"C++ page\" style=\"vertical-align:middle\"></td><td>C++</td><td>10.36%</td><td>-0.39%</td></tr><tr><td>4</td><td>3</td><td><img src=\"https://www.tiobe.com/wp-content/themes/tiobe/tpci/images/down.png\" alt=\"change\"></td><td class=\"td-top20\"><img src=\"https://www.tiobe.com/wp-content/themes/tiobe/tiobe-index/images/Java.png\" alt=\"Java page\" style=\"vertical-align:middle\"></td><td>Java</td><td>8.35%</td><td>-3.63%</td></tr><tr><td>5</td><td>5</td><td></td><td class=\"td-top20\"><img src=\"https://www.tiobe.com/wp-content/themes/tiobe/tiobe-index/images/C_.png\" alt=\"C# page\" style=\"vertical-align:middle\"></td><td>C#</td><td>7.65%</td><td>+3.40%</td></tr><tr><td>6</td><td>7</td><td><img src=\"https://www.tiobe.com/wp-content/themes/tiobe/tpci/images/up.png\" alt=\"change\"></td><td class=\"td-top20\"><img src=\"https://www.tiobe.com/wp-content/themes/tiobe/tiobe-index/images/JavaScript.png\" alt=\"JavaScript page\" style=\"vertical-align:middle\"></td><td>JavaScript</td><td>3.21%</td><td>+0.47%</td></tr><tr><td>7</td><td>10</td><td><img src=\"https://www.tiobe.com/wp-content/themes/tiobe/tpci/images/up.png\" alt=\"change\"></td><td class=\"td-top20\"><img src=\"https://www.tiobe.com/wp-content/themes/tiobe/tiobe-index/images/PHP.png\" alt=\"PHP page\" style=\"vertical-align:middle\"></td><td>PHP</td><td>2.30%</td><td>+0.61%</td></tr><tr><td>8</td><td>6</td><td><img src=\"https://www.tiobe.com/wp-content/themes/tiobe/tpci/images/down.png\" alt=\"change\"></td><td class=\"td-top20\"><img src=\"https://www.tiobe.com/wp-content/themes/tiobe/tiobe-index/images/Visual_Basic.png\" alt=\"Visual Basic page\" style=\"vertical-align:middle\"></td><td>Visual Basic</td><td>2.10%</td><td>-2.01%</td></tr><tr><td>9</td><td>9</td><td></td><td class=\"td-top20\"><img src=\"https://www.tiobe.com/wp-content/themes/tiobe/tiobe-index/images/SQL.png\" alt=\"SQL page\" style=\"vertical-align:middle\"></td><td>SQL</td><td>1.88%</td><td>+0.07%</td></tr><tr><td>10</td><td>8</td><td><img src=\"https://www.tiobe.com/wp-content/themes/tiobe/tpci/images/down.png\" alt=\"change\"></td><td class=\"td-top20\"><img src=\"https://www.tiobe.com/wp-content/themes/tiobe/tiobe-index/images/Assembly_language.png\" alt=\"Assembly language page\" style=\"vertical-align:middle\"></td><td>Assembly language</td><td>1.35%</td><td>-0.83%</td></tr><tr><td>11</td><td>17</td><td><img src=\"https://www.tiobe.com/wp-content/themes/tiobe/tpci/images/upup.png\" alt=\"change\"></td><td class=\"td-top20\"><img src=\"https://www.tiobe.com/wp-content/themes/tiobe/tiobe-index/images/Scratch.png\" alt=\"Scratch page\" style=\"vertical-align:middle\"></td><td>Scratch</td><td>1.31%</td><td>+0.43%</td></tr><tr><td>12</td><td>24</td><td><img src=\"https://www.tiobe.com/wp-content/themes/tiobe/tpci/images/upup.png\" alt=\"change\"></td><td class=\"td-top20\"><img src=\"https://www.tiobe.com/wp-content/themes/tiobe/tiobe-index/images/Fortran.png\" alt=\"Fortran page\" style=\"vertical-align:middle\"></td><td>Fortran</td><td>1.30%</td><td>+0.74%</td></tr><tr><td>13</td><td>11</td><td><img src=\"https://www.tiobe.com/wp-content/themes/tiobe/tpci/images/down.png\" alt=\"change\"></td><td class=\"td-top20\"><img src=\"https://www.tiobe.com/wp-content/themes/tiobe/tiobe-index/images/Go.png\" alt=\"Go page\" style=\"vertical-align:middle\"></td><td>Go</td><td>1.19%</td><td>+0.05%</td></tr><tr><td>14</td><td>15</td><td><img src=\"https://www.tiobe.com/wp-content/themes/tiobe/tpci/images/up.png\" alt=\"change\"></td><td class=\"td-top20\"><img src=\"https://www.tiobe.com/wp-content/themes/tiobe/tiobe-index/images/MATLAB.png\" alt=\"MATLAB page\" style=\"vertical-align:middle\"></td><td>MATLAB</td><td>1.15%</td><td>+0.14%</td></tr><tr><td>15</td><td>28</td><td><img src=\"https://www.tiobe.com/wp-content/themes/tiobe/tpci/images/upup.png\" alt=\"change\"></td><td class=\"td-top20\"><img src=\"https://www.tiobe.com/wp-content/themes/tiobe/tiobe-index/images/Kotlin.png\" alt=\"Kotlin page\" style=\"vertical-align:middle\"></td><td>Kotlin</td><td>1.15%</td><td>+0.68%</td></tr><tr><td>16</td><td>14</td><td><img src=\"https://www.tiobe.com/wp-content/themes/tiobe/tpci/images/down.png\" alt=\"change\"></td><td class=\"td-top20\"><img src=\"https://www.tiobe.com/wp-content/themes/tiobe/tiobe-index/images/Delphi_Object_Pascal.png\" alt=\"Delphi/Object Pascal page\" style=\"vertical-align:middle\"></td><td>Delphi/Object Pascal</td><td>1.14%</td><td>+0.07%</td></tr><tr><td>17</td><td>18</td><td><img src=\"https://www.tiobe.com/wp-content/themes/tiobe/tpci/images/up.png\" alt=\"change\"></td><td class=\"td-top20\"><img src=\"https://www.tiobe.com/wp-content/themes/tiobe/tiobe-index/images/Swift.png\" alt=\"Swift page\" style=\"vertical-align:middle\"></td><td>Swift</td><td>1.04%</td><td>+0.17%</td></tr><tr><td>18</td><td>19</td><td><img src=\"https://www.tiobe.com/wp-content/themes/tiobe/tpci/images/up.png\" alt=\"change\"></td><td class=\"td-top20\"><img src=\"https://www.tiobe.com/wp-content/themes/tiobe/tiobe-index/images/Ruby.png\" alt=\"Ruby page\" style=\"vertical-align:middle\"></td><td>Ruby</td><td>0.99%</td><td>+0.14%</td></tr><tr><td>19</td><td>12</td><td><img src=\"https://www.tiobe.com/wp-content/themes/tiobe/tpci/images/downdown.png\" alt=\"change\"></td><td class=\"td-top20\"><img src=\"https://www.tiobe.com/wp-content/themes/tiobe/tiobe-index/images/R.png\" alt=\"R page\" style=\"vertical-align:middle\"></td><td>R</td><td>0.93%</td><td>-0.20%</td></tr><tr><td>20</td><td>20</td><td></td><td class=\"td-top20\"><img src=\"https://www.tiobe.com/wp-content/themes/tiobe/tiobe-index/images/Rust.png\" alt=\"Rust page\" style=\"vertical-align:middle\"></td><td>Rust</td><td>0.91%</td><td>+0.16%</td></tr>\n",
        "</tbody>\n",
        "</table>\n",
        "\n",
        "\n"
      ],
      "metadata": {
        "id": "_1B-_yERvCQe"
      }
    },
    {
      "cell_type": "markdown",
      "source": [
        "# Python 101\n",
        "\n",
        "Fortunately for the experienced R users, a lot of syntax is very similar between R and Python. The following are the order of operations (PEMDAS) in Python:\n",
        "\n",
        "*   Parentheses in Python: ( ) - contain a calculation\n",
        "*   Exponents in Python: **\n",
        "*   Divide: /\n",
        "*   Multiply: * (__NOT__:^)\n",
        "*   Add: +\n",
        "*   Subtract: -\n",
        "\n",
        "Let's run some python code to demonstrate:\n",
        "\n",
        "\n"
      ],
      "metadata": {
        "id": "xOsN3vXEDVs0"
      }
    },
    {
      "cell_type": "code",
      "source": [
        "# Parentheses\n",
        "(10-4)+5"
      ],
      "metadata": {
        "id": "3aK1lAMUEz0v"
      },
      "execution_count": null,
      "outputs": []
    },
    {
      "cell_type": "code",
      "source": [
        "3+5**2"
      ],
      "metadata": {
        "id": "W8xUHh_uE33m"
      },
      "execution_count": null,
      "outputs": []
    },
    {
      "cell_type": "code",
      "source": [
        "(3+5)**2"
      ],
      "metadata": {
        "id": "HYIVlh-VE8mQ"
      },
      "execution_count": null,
      "outputs": []
    },
    {
      "cell_type": "code",
      "source": [
        "2/10000"
      ],
      "metadata": {
        "id": "rQXOl0wME-7r"
      },
      "execution_count": null,
      "outputs": []
    },
    {
      "cell_type": "code",
      "source": [
        "2*3"
      ],
      "metadata": {
        "id": "3MSQXLgXE__K"
      },
      "execution_count": null,
      "outputs": []
    },
    {
      "cell_type": "markdown",
      "source": [
        "##Special Operators\n",
        "\n",
        "\n",
        "*   Divisor (integer): //\n",
        "*   Modulus operator: %\n",
        "\n"
      ],
      "metadata": {
        "id": "h1PcdzHMHaJU"
      }
    },
    {
      "cell_type": "code",
      "source": [
        "11//3"
      ],
      "metadata": {
        "id": "svwg9vAZHxFB"
      },
      "execution_count": null,
      "outputs": []
    },
    {
      "cell_type": "code",
      "source": [
        "11%3"
      ],
      "metadata": {
        "id": "1A24eM49IAAP"
      },
      "execution_count": null,
      "outputs": []
    },
    {
      "cell_type": "markdown",
      "source": [
        "A few important differences between R and Python to keep in mind:\n",
        "\n",
        "\n",
        "1.   The carrot (^) is a bitwise operator for bitmath, not an exponent\n",
        "2.   Counting in Python begins at 0, so you can get different results between R and Python\n",
        "\n",
        "```\n",
        "#R\n",
        "for (x in 1:10) {\n",
        "  print(x)\n",
        "}\n",
        "output:\n",
        "[1] 1\n",
        "[1] 2\n",
        "[1] 3\n",
        "[1] 4\n",
        "[1] 5\n",
        "[1] 6\n",
        "[1] 7\n",
        "[1] 8\n",
        "[1] 9\n",
        "[1] 10\n",
        "```\n",
        "\n",
        "\n",
        "```\n",
        "# Python\n",
        "for _i in range(10):\n",
        "    print(_i)\n",
        "output:\n",
        "0\n",
        "1\n",
        "2\n",
        "3\n",
        "4\n",
        "5\n",
        "6\n",
        "7\n",
        "8\n",
        "9\n",
        "```\n",
        "\n",
        "\n",
        "\n",
        "\n"
      ],
      "metadata": {
        "id": "QDBrWh6bFETt"
      }
    },
    {
      "cell_type": "markdown",
      "source": [
        "##Python Logical Operators\n",
        "\n",
        "Many of the logical operators in Python are the same as R\n",
        "\n",
        "\n",
        "*   Equality: ==\n",
        "*   Inequality: !=\n",
        "*   Less than <\n",
        "*   Less than or equal to: <=\n",
        "\n"
      ],
      "metadata": {
        "id": "Y96cU-9LKbU4"
      }
    },
    {
      "cell_type": "code",
      "source": [
        "4==3"
      ],
      "metadata": {
        "id": "kKInW5r8FBFI"
      },
      "execution_count": null,
      "outputs": []
    },
    {
      "cell_type": "code",
      "source": [
        "4!=3"
      ],
      "metadata": {
        "id": "MyDHNB1YKxVA"
      },
      "execution_count": null,
      "outputs": []
    },
    {
      "cell_type": "code",
      "source": [
        "4<3"
      ],
      "metadata": {
        "id": "DFPVXV7eKzDC"
      },
      "execution_count": null,
      "outputs": []
    },
    {
      "cell_type": "code",
      "source": [
        "4>=3"
      ],
      "metadata": {
        "id": "q_LUeLRKK0AL"
      },
      "execution_count": null,
      "outputs": []
    },
    {
      "cell_type": "markdown",
      "source": [
        "## Assigning Variables and Objects\n",
        "\n",
        "### Because Python is an object-based language we can assign values to variables like in R, but the sytax is slightly different in Python"
      ],
      "metadata": {
        "id": "ThunRjhtK4wa"
      }
    },
    {
      "cell_type": "code",
      "source": [
        "x = 55\n",
        "x"
      ],
      "metadata": {
        "id": "zTmCUv4EK4bC"
      },
      "execution_count": null,
      "outputs": []
    },
    {
      "cell_type": "code",
      "source": [
        "x+=1\n",
        "x"
      ],
      "metadata": {
        "id": "d5HFs5hrLGuT"
      },
      "execution_count": null,
      "outputs": []
    },
    {
      "cell_type": "code",
      "source": [
        "x = 55\n",
        "y = x+1\n",
        "print(x, y)"
      ],
      "metadata": {
        "id": "UfowbEiTLIWA"
      },
      "execution_count": null,
      "outputs": []
    },
    {
      "cell_type": "markdown",
      "source": [
        "####To delete a variable we can use (del var)"
      ],
      "metadata": {
        "id": "cH2nRXp6La2c"
      }
    },
    {
      "cell_type": "code",
      "source": [
        "y"
      ],
      "metadata": {
        "id": "FfI3rOedLQsB"
      },
      "execution_count": null,
      "outputs": []
    },
    {
      "cell_type": "code",
      "source": [
        "del y"
      ],
      "metadata": {
        "id": "q6nFWFilLf62"
      },
      "execution_count": null,
      "outputs": []
    },
    {
      "cell_type": "markdown",
      "source": [
        "### Variable Naming conventions in Python:\n",
        "Python has fairly relaxed rules for naming variables, but there are a few conventions that help avoid issues:\n",
        "\n",
        "\n",
        "* Like R, variable names shouldn't contain spaces:\n",
        "  * Instead Use: like variable_level or VariableLevel\n",
        "* Don't use periods! - these are special operators in Pandas that call a column from a dataframe.\n",
        "  * Variable.level would be read as DataFrame.Column\n",
        "* Don't use uppercase variable names, sometimes these are excluded from display because they are used in packages and are ''hidden'' variable types.\n",
        "* Most IDEs will change the color of the font for functions and calls (i.e.: list, var, len, type) so be creative and use different names for things so you don't overwrite these"
      ],
      "metadata": {
        "id": "O-CvORWhLj_l"
      }
    },
    {
      "cell_type": "markdown",
      "source": [
        "## Data Types in Python\n",
        "\n",
        "In Python, there are technically seven data types, but a few are similar or act the same but will not work if the code is expecting something else.\n",
        "\n"
      ],
      "metadata": {
        "id": "gaGXIZ7NM9mO"
      }
    },
    {
      "cell_type": "markdown",
      "source": [
        "###Numeric\n",
        "The most basic are just numeric data types, floats and integers"
      ],
      "metadata": {
        "id": "jDpFlUkaNlwC"
      }
    },
    {
      "cell_type": "code",
      "source": [
        "#create a variable with integer value.\n",
        "a= 100\n",
        "print(\"The type of variable having value\", a, \" is \", type(a))"
      ],
      "metadata": {
        "id": "PFk9UtabNlcx"
      },
      "execution_count": null,
      "outputs": []
    },
    {
      "cell_type": "code",
      "source": [
        "#create a variable with float value.\n",
        "b=10.2345\n",
        "print(\"The type of variable having value\", b, \" is \", type(b))"
      ],
      "metadata": {
        "id": "VWnbuWGENlAH"
      },
      "execution_count": null,
      "outputs": []
    },
    {
      "cell_type": "markdown",
      "source": [
        "There is also a ''complex'' data type that combines integers and strings - honestly I've never seen this used before."
      ],
      "metadata": {
        "id": "P-a11b35Nkqx"
      }
    },
    {
      "cell_type": "code",
      "source": [
        "c=100+3j\n",
        "print(\"The type of variable having value\", c, \" is \", type(c))"
      ],
      "metadata": {
        "id": "oLPxlG6eLgaK"
      },
      "execution_count": null,
      "outputs": []
    },
    {
      "cell_type": "markdown",
      "source": [
        "###Strings\n",
        "Next are strings, or text  - these act similar to R. You can use either \" or ' when assigning a string. A single quote (') is most common to declare a string."
      ],
      "metadata": {
        "id": "hXmhsrS7ONd-"
      }
    },
    {
      "cell_type": "code",
      "source": [
        "a = \"a string in double quote\"\n",
        "b = 'a string in single quote'\n",
        "print(a)\n",
        "print(b)"
      ],
      "metadata": {
        "id": "jq6Fb-15MqTw"
      },
      "execution_count": null,
      "outputs": []
    },
    {
      "cell_type": "code",
      "source": [
        "c = a+b\n",
        "print(c)"
      ],
      "metadata": {
        "id": "n5PPSqnEOnSb"
      },
      "execution_count": null,
      "outputs": []
    },
    {
      "cell_type": "code",
      "source": [
        "c = a + ' | ' + b\n",
        "print(c)"
      ],
      "metadata": {
        "id": "FyMJ_CMLOqiX"
      },
      "execution_count": null,
      "outputs": []
    },
    {
      "cell_type": "markdown",
      "source": [
        "### Lists\n",
        "In Python, lists use square brackets and are indexed."
      ],
      "metadata": {
        "id": "AFe0UYzXOy2J"
      }
    },
    {
      "cell_type": "code",
      "source": [
        "#creating a list with a few integers\n",
        "mylist = [4,5,6,7,8]\n",
        "mylist[1]"
      ],
      "metadata": {
        "id": "rW_vM564OuGg"
      },
      "execution_count": null,
      "outputs": []
    },
    {
      "cell_type": "code",
      "source": [
        "#Get the '2nd' element in the list\n",
        "mylist[2]"
      ],
      "metadata": {
        "id": "ILGasQFuPFW0"
      },
      "execution_count": null,
      "outputs": []
    },
    {
      "cell_type": "code",
      "source": [
        "#Get the '0th' element in the list\n",
        "mylist[0]"
      ],
      "metadata": {
        "id": "HJZu0CpzPBwv"
      },
      "execution_count": null,
      "outputs": []
    },
    {
      "cell_type": "code",
      "source": [
        "#Get the last element in the list\n",
        "mylist[-1]"
      ],
      "metadata": {
        "id": "SUI7nCkJaHuB"
      },
      "execution_count": null,
      "outputs": []
    },
    {
      "cell_type": "code",
      "source": [
        "#Remove the '0th' element in the list\n",
        "mylist.remove(mylist[0])\n",
        "mylist"
      ],
      "metadata": {
        "id": "oL9MkYNyPEDh"
      },
      "execution_count": null,
      "outputs": []
    },
    {
      "cell_type": "code",
      "source": [
        "#Add a new element to the list - appends to the end of the list\n",
        "mylist.append(0)\n",
        "mylist"
      ],
      "metadata": {
        "id": "G-sbpTwfPOa9"
      },
      "execution_count": null,
      "outputs": []
    },
    {
      "cell_type": "code",
      "source": [
        "#Lists can contain mixed data types\n",
        "mylist.append('some string')\n",
        "mylist"
      ],
      "metadata": {
        "id": "oL0JiNIZPO-8"
      },
      "execution_count": null,
      "outputs": []
    },
    {
      "cell_type": "markdown",
      "source": [
        "###Tuples\n",
        "Tuples for the most part are like lists, but use regular parentheses. However"
      ],
      "metadata": {
        "id": "r8Y_RL08P3Of"
      }
    },
    {
      "cell_type": "code",
      "source": [
        "#tuple having only integer type of data.\n",
        "a=(1,2,3,4)\n",
        "print(a) #prints the whole tuple"
      ],
      "metadata": {
        "id": "2M2roEyPPSsO"
      },
      "execution_count": null,
      "outputs": []
    },
    {
      "cell_type": "code",
      "source": [
        "#tuple having multiple type of data.\n",
        "b=(\"hello\", 1,2,3,\"go\")\n",
        "print(b) #prints the whole tuple"
      ],
      "metadata": {
        "id": "Ae1JroO1QEy3"
      },
      "execution_count": null,
      "outputs": []
    },
    {
      "cell_type": "code",
      "source": [
        "#index of tuples are also 0 based.\n",
        "print(b[4]) #this prints a single element in a tuple, in this case \"go\""
      ],
      "metadata": {
        "id": "AW1TjM9qQI8c"
      },
      "execution_count": null,
      "outputs": []
    },
    {
      "cell_type": "markdown",
      "source": [
        "### Dictionaries\n",
        "Python dictionaries can be used to map \"keys\" and values\". For example, we might have zipcodes and a name for a town like the following:"
      ],
      "metadata": {
        "id": "I-PRQHkPQMEV"
      }
    },
    {
      "cell_type": "code",
      "source": [
        "#We create a dict with curly brackets {key : value}. We can call the key and get the corresponding value.\n",
        "zipdict = {84321:'Logan',\n",
        "           84332:'Providence',\n",
        "           84322:'Utah State University'}\n",
        "\n",
        "\n",
        "print(f'The zipcode 84332 is assigned to {zipdict[84332]}')\n",
        "\n",
        "print(f'The zipcode 84321 is assigned to {zipdict[84321]}')\n"
      ],
      "metadata": {
        "id": "0ObnI-ASQKCX"
      },
      "execution_count": null,
      "outputs": []
    },
    {
      "cell_type": "markdown",
      "source": [
        "###Boolean Operators\n",
        "In Python True and False are reserved for boolean operations but can be assigned to variables for use in functions and loops."
      ],
      "metadata": {
        "id": "RJpl4CUzSYXL"
      }
    },
    {
      "cell_type": "code",
      "source": [
        "Trevor = False\n",
        "Andy = True\n",
        "Jordan = True\n",
        "Elsa = True\n",
        "\n",
        "for _i in ['Elsa','Jordan','Andy', 'Trevor']:\n",
        "  print('Will '+_i + ' pass this course? - '+ str(globals()[_i]))"
      ],
      "metadata": {
        "id": "1gtg8b18Qk65"
      },
      "execution_count": null,
      "outputs": []
    },
    {
      "cell_type": "markdown",
      "source": [
        "### Arrays\n",
        "While lists (and sets) are more or less the same thing in R, Python also uses arrays (from NumPy) for a lot of the same types of vector additions and subtractions.\n",
        "\n",
        "Numpy is a very big package in Python, but for demonstration purposes we'll create two arrays and do some calculations"
      ],
      "metadata": {
        "id": "tVDx4cngUfT5"
      }
    },
    {
      "cell_type": "code",
      "source": [
        "#import numpy - often we abbreviate a package to shorten the call\n",
        "import numpy as np #np is the convention for numpy\n",
        "\n",
        "import numpy as np\n",
        "a = np.array([1, 2, 3])"
      ],
      "metadata": {
        "id": "stBSZdQnTx32"
      },
      "execution_count": 2,
      "outputs": []
    },
    {
      "cell_type": "markdown",
      "source": [
        "<img src = 'https://numpy.org/doc/stable/_images/np_array.png' />\n",
        "\n"
      ],
      "metadata": {
        "id": "3ojjJaXdWnuZ"
      }
    },
    {
      "cell_type": "code",
      "source": [
        "#Create an array with a within a range\n",
        "np.arange(4)"
      ],
      "metadata": {
        "id": "DywKGMg8VfGB"
      },
      "execution_count": null,
      "outputs": []
    },
    {
      "cell_type": "code",
      "source": [
        "#If you start with this array\n",
        "arr = np.array([2, 1, 5, 3, 7, 4, 6, 8])\n",
        "arr"
      ],
      "metadata": {
        "id": "ShrEKnz2VhzH"
      },
      "execution_count": null,
      "outputs": []
    },
    {
      "cell_type": "code",
      "source": [
        "#You can quickly sort the numbers in ascending order with:\n",
        "arr = np.sort(arr)\n",
        "arr\n"
      ],
      "metadata": {
        "id": "tIHPywc7WO0d"
      },
      "execution_count": null,
      "outputs": []
    },
    {
      "cell_type": "code",
      "source": [
        "#If you start with these arrays:\n",
        "a = np.array([1, 2, 3, 4])\n",
        "b = np.array([5, 6, 7, 8])\n",
        "print(a)\n",
        "print(b)\n",
        "#You can concatenate them with np.concatenate().\n",
        "ab = np.concatenate((a, b))\n",
        "print(ab)"
      ],
      "metadata": {
        "id": "OC8IzAW0WSem"
      },
      "execution_count": null,
      "outputs": []
    },
    {
      "cell_type": "code",
      "source": [
        "#Or, if you start with these arrays:\n",
        "x = np.array([[1, 2], [3, 4]])\n",
        "y = np.array([[5, 6]])\n",
        "print('X:\\n', x,)\n",
        "print('Y:\\n', y,)\n",
        "#You can concatenate them with:\n",
        "xy = np.concatenate((x, y), axis=0)\n",
        "print('XY:\\n',xy)"
      ],
      "metadata": {
        "id": "0hGiRCh4ZX0S"
      },
      "execution_count": null,
      "outputs": []
    },
    {
      "cell_type": "markdown",
      "source": [
        "##Special Numbers\n",
        "The numpy package also has NaN values, which might operate a little differently than with R's NaNs.\n",
        "The nan value in numpy is np.nan which is equivalent to np.infinite"
      ],
      "metadata": {
        "id": "woWQMO2W-pBJ"
      }
    },
    {
      "cell_type": "code",
      "source": [
        "np.nan + np.nan"
      ],
      "metadata": {
        "colab": {
          "base_uri": "https://localhost:8080/"
        },
        "id": "H47WRRJ0-n6M",
        "outputId": "3be4dac0-a261-4f59-d6ae-956b5591709f"
      },
      "execution_count": 4,
      "outputs": [
        {
          "output_type": "execute_result",
          "data": {
            "text/plain": [
              "nan"
            ]
          },
          "metadata": {},
          "execution_count": 4
        }
      ]
    },
    {
      "cell_type": "code",
      "source": [
        "1 + np.nan"
      ],
      "metadata": {
        "colab": {
          "base_uri": "https://localhost:8080/"
        },
        "id": "xDOhnVwL--oP",
        "outputId": "679b981a-ae4a-420c-9aa4-a09788ed460d"
      },
      "execution_count": 5,
      "outputs": [
        {
          "output_type": "execute_result",
          "data": {
            "text/plain": [
              "nan"
            ]
          },
          "metadata": {},
          "execution_count": 5
        }
      ]
    },
    {
      "cell_type": "code",
      "source": [
        "0 + np.nan"
      ],
      "metadata": {
        "colab": {
          "base_uri": "https://localhost:8080/"
        },
        "id": "PXtPgz5d_H7K",
        "outputId": "4b370354-da04-4d23-b986-cd085f88da81"
      },
      "execution_count": 6,
      "outputs": [
        {
          "output_type": "execute_result",
          "data": {
            "text/plain": [
              "nan"
            ]
          },
          "metadata": {},
          "execution_count": 6
        }
      ]
    },
    {
      "cell_type": "code",
      "source": [
        "np.nan * np.nan"
      ],
      "metadata": {
        "colab": {
          "base_uri": "https://localhost:8080/"
        },
        "id": "UP9EcMxc_JoY",
        "outputId": "900a3e83-8d7d-4a93-9c1c-da0cef9b6382"
      },
      "execution_count": 7,
      "outputs": [
        {
          "output_type": "execute_result",
          "data": {
            "text/plain": [
              "nan"
            ]
          },
          "metadata": {},
          "execution_count": 7
        }
      ]
    },
    {
      "cell_type": "code",
      "source": [
        "7 * np.nan"
      ],
      "metadata": {
        "colab": {
          "base_uri": "https://localhost:8080/"
        },
        "id": "wKOkGHsY_MR_",
        "outputId": "f9e6e48f-043e-44ed-cd79-83c014aa6ec8"
      },
      "execution_count": 8,
      "outputs": [
        {
          "output_type": "execute_result",
          "data": {
            "text/plain": [
              "nan"
            ]
          },
          "metadata": {},
          "execution_count": 8
        }
      ]
    }
  ]
}