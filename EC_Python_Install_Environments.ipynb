{
  "nbformat": 4,
  "nbformat_minor": 0,
  "metadata": {
    "colab": {
      "provenance": [],
      "authorship_tag": "ABX9TyNASYMmWSzhQe92OLZKKUkA",
      "include_colab_link": true
    },
    "kernelspec": {
      "name": "python3",
      "display_name": "Python 3"
    },
    "language_info": {
      "name": "python"
    }
  },
  "cells": [
    {
      "cell_type": "markdown",
      "metadata": {
        "id": "view-in-github",
        "colab_type": "text"
      },
      "source": [
        "<a href=\"https://colab.research.google.com/github/noahcreany/EC_Python101/blob/main/EC_Python_Install_Environments.ipynb\" target=\"_parent\"><img src=\"https://colab.research.google.com/assets/colab-badge.svg\" alt=\"Open In Colab\"/></a>"
      ]
    },
    {
      "cell_type": "markdown",
      "source": [
        "# Python Installation & Environments\n",
        "\n",
        "Unlike R & the CRAN network, Python is a bit more decentralized and can be a bit confusing to get started. \n",
        "\n",
        ">The most similar code repository like CRAN is the Anaconda or Conda-Forge repositories which host packages (R equivalent of libraries) & updates. Anaconda provides a single source to install Python & a a suite of ''core'' python packages.\n",
        "\n",
        "<img src='https://upload.wikimedia.org/wikipedia/en/c/cd/Anaconda_Logo.png' width='300'>\n",
        "\n",
        "[Anaconda Distribution of Python](https://www.anaconda.com/products/distribution)"
      ],
      "metadata": {
        "id": "NbwFg_KDxqcE"
      }
    },
    {
      "cell_type": "markdown",
      "source": [
        "##Anaconda\n",
        "\n",
        "* Anaconda will install the most recent stable version of Python (3.10) - which is also known as Python3. Almost all python packages have migrated to Python 3 but ArcMap Desktop uses Python 2 which has some subtle differences from 3. \n",
        "* Anaconda will also install Spyder IDE, and some other data visualization and mining software and the core python packages. \n",
        "\n",
        "<img src='https://github.com/noahcreany/EC_Python101/blob/main/Figures/Anacoda%20home.png?raw=true' />\n",
        "\n",
        ">* **Note:** Python uses ''environments'' where Python is installed on your machine. The *base* environmnet is the default when freshly installed on the machine.  Anaconda distributions can ''break'' if you use a pip install method on the base environment - basically what this means is that it will install the package but it may not be compatable with other packages/versions so the whole python installation may not work. \n",
        "\n",
        "* That is why you should install new packages only through Anaconda or Conda-forge. You can do this through the GUI or on the command line. \n",
        "\n",
        "<img src = 'https://github.com/noahcreany/EC_Python101/blob/main/Figures/Anacoda%20Envs.jpg?raw=true'>\n",
        "\n",
        "<img src = 'https://github.com/noahcreany/EC_Python101/blob/main/Figures/Packages.png?raw=true'>\n",
        "\n",
        "<img src = 'https://github.com/noahcreany/EC_Python101/blob/main/Figures/Pymc.png?raw=true'> \n"
      ],
      "metadata": {
        "id": "1XHYffDu4OiH"
      }
    },
    {
      "cell_type": "markdown",
      "source": [
        "## Installing Packages through Command Line\n",
        "\n",
        "* We can also install and manage our Python installation through the command line. On Windows, Anaconda installs a 'Anaconda Powershell Prompt' with installation that you use for this purpose, on Mac just open Terminal. \n",
        "\n",
        "> When open we can call on Python and view the Environments (env in python) with  \n",
        "\n",
        "```\n",
        "conda env list\n",
        "```\n",
        "<img src= 'https://github.com/noahcreany/EC_Python101/blob/main/Figures/CL3_Env%20list.png?raw=true'>\n",
        "\n",
        "> We then need to activate the environment where we'll install the new package. I have an environment here where I have other geospatical tools in \"geoenv' that I'll activate.\n",
        "\n",
        "~~~\n",
        "conda activate geoenv\n",
        "~~~\n",
        "\n",
        "<img src= 'https://github.com/noahcreany/EC_Python101/blob/main/Figures/CL4_CondaActivate.png?raw=true'>\n",
        "\n",
        "\n",
        "> Then we'll find the MovingPandas package on Anaconda's webpage:\n",
        "\n",
        "<img src = 'https://github.com/noahcreany/EC_Python101/blob/main/Figures/CL1_Moving%20pandas.png?raw=true'>\n",
        "\n",
        "> Click on the package and we see a page that will show the command line code that will install the package on our machine\n",
        "\n",
        "<img src = 'https://github.com/noahcreany/EC_Python101/blob/main/Figures/CL2_Forge.png?raw=true'>\n",
        "\n",
        " >> Copy the code and paste into the command line.\n",
        " ~~~\n",
        " conda install -c conda-forge movingpandas\n",
        " ~~~\n",
        "  \n",
        "\n",
        "<img src = 'https://github.com/noahcreany/EC_Python101/blob/main/Figures/CL5_install.png?raw=true'>\n",
        "\n",
        "> Next, python will check package compatability with all other packages to make sure there aren't any conflicts - that's what the *Solving Environment* line is doing. When it's complete it will ask you to confirm installation (y/n).\n",
        "\n",
        "<img src = 'https://github.com/noahcreany/EC_Python101/blob/main/Figures/CL6_Confirm.png?raw=true'>\n",
        "\n",
        "\n",
        "\n",
        "\n",
        "\n",
        "\n"
      ],
      "metadata": {
        "id": "rDzGvgkB_JLP"
      }
    },
    {
      "cell_type": "markdown",
      "source": [
        "## Managing Python Environments\n",
        "\n",
        "> Python environments are basically containers for all of your packages that keep order and make sure everyone plays nice with eachother. It won't allow you to install a package that is incompatiable with other packages, but it will do it's best to try to adjust versions of other packages that will be compatable.\n",
        "\n",
        "**A few best practices**\n",
        "1.  Its always a good idea to keep the base environment fairly simple. If you are trying to install a new package and get an error, its better to create a new environment.\n",
        "\n",
        "2. Provenance- its a good idea to use Anaconda/Conda-Forge for your packages. You might find early releases from the package developer but it might then create issues with other packages. Keeping Conda-Forge or Anaconda will allow your packages to work together - and update smoothly.\n",
        "\n",
        "\n",
        "> These are a few of the commands you might want to use in order to manage, update, and maintain your Python environment. \n",
        "\n",
        ">> To create a new environment: Replace ENVNAME with your environment name.\n",
        "~~~\n",
        "conda create -n ENVNAME\n",
        "~~~\n",
        ">> To create a new environment with a package, or packages, you want to use: same as the previous naming the package and then the packages you want separated by a space. This is often faster than installing them individually.\n",
        "~~~\n",
        "conda creae -n bayes pymc scikit-learn numpy dask xarray\n",
        "~~~\n",
        ">> Viewing a list of packages in your environment:\n",
        "~~~\n",
        "conda list\n",
        "~~~\n",
        ">> Updating all the packages in your environment to the most recent\n",
        "~~~\n",
        "conda update --all\n",
        "~~~\n",
        ">> Updating Python \n",
        "~~~\n",
        "conda update python\n",
        "~~~\n",
        ">> Updating your Python Repositories:\n",
        "~~~\n",
        "conda update conda anaconda\n",
        "~~~\n",
        ">> Exporting your Environment to save it in case things go awry or so you can copy an environment between machines (gets a bit trickier between Mac and PC)\n",
        "~~~\n",
        "conda env export > MyEnv.yml\n",
        "~~~\n",
        ">> Then on your other device\n",
        "~~~\n",
        "conda create -f MyEnv.yml \n",
        "~~~\n",
        "\n"
      ],
      "metadata": {
        "id": "iuhUZ3fIcXlm"
      }
    },
    {
      "cell_type": "markdown",
      "source": [
        "# A Less Confusing/Complicated Alternative: Google Colabratory\n",
        "## Welcome to Google Colabratory!\n",
        "---\n",
        ">This is a Python IDE that can run in your browser with no installation of Python necessary. It's kind of like RStudio Cloud or online that uses cloud processing and resources instead of your local machine. \n",
        "\n",
        "* Don't worry about breaking Python here - its a virtual machine/sandbox.\n",
        "* Want to use a package that you can't find on conda-forge or Anaconda, this is the best place. \n",
        "  * A bigger repository than either conda-forge or Anaconda is [PyPi.org](https://pypi.org/) which has a lot more experimental and smaller scale packages - often the ones being developed by scientists and individual code projects. \n",
        "\n",
        "\n"
      ],
      "metadata": {
        "id": "aJ7dLkSYiScq"
      }
    }
  ]
}